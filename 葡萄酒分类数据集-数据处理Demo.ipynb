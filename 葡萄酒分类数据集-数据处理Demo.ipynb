{
 "cells": [
  {
   "cell_type": "markdown",
   "metadata": {},
   "source": [
    "# 葡萄酒分类数据集-数据处理Demo\n",
    "参考：https://blog.csdn.net/u012735708/article/details/84000262"
   ]
  },
  {
   "cell_type": "markdown",
   "metadata": {},
   "source": [
    "## 1、数据分析\n",
    "当我们拿到一批原始的数据，首先要明确基本信息。（利用pandas、matplotlib.pyplot、seaborn）  \n",
    "\n",
    "例如：样本数，特征维度，特征类型，各类别分布占比  \n",
    "- 看数据：data.shape、data.head()、train.describe()  \n",
    "- 看特征：data.info()、  \n",
    "- 看类别分布是否均衡：data['category'].value_counts()  "
   ]
  },
  {
   "cell_type": "code",
   "execution_count": 3,
   "metadata": {
    "collapsed": false,
    "scrolled": true
   },
   "outputs": [],
   "source": [
    "import pandas as pd\n",
    "columns=['0Alcohol','1Malic acid ','2Ash','3Alcalinity of ash',\n",
    "         '4Magnesium','5Total phenols','6Flavanoid',\n",
    "         '7Nonflavanoid phenols','8Proanthocyanins ','9Color intensity ','10Hue ','11OD280/OD315 of diluted wines' ,'12Proline ','13category']\n",
    "data= pd.read_csv(\"wine.csv\",header=None,names=columns)"
   ]
  },
  {
   "cell_type": "code",
   "execution_count": 4,
   "metadata": {
    "collapsed": false
   },
   "outputs": [
    {
     "data": {
      "text/plain": [
       "(178, 14)"
      ]
     },
     "execution_count": 4,
     "metadata": {},
     "output_type": "execute_result"
    }
   ],
   "source": [
    "data.shape \n",
    "\n",
    "# (178, 14) 一共178个样本，13个特征列，1个标签列"
   ]
  },
  {
   "cell_type": "code",
   "execution_count": 5,
   "metadata": {
    "collapsed": true
   },
   "outputs": [
    {
     "data": {
      "text/html": [
       "<div>\n",
       "<style>\n",
       "    .dataframe thead tr:only-child th {\n",
       "        text-align: right;\n",
       "    }\n",
       "\n",
       "    .dataframe thead th {\n",
       "        text-align: left;\n",
       "    }\n",
       "\n",
       "    .dataframe tbody tr th {\n",
       "        vertical-align: top;\n",
       "    }\n",
       "</style>\n",
       "<table border=\"1\" class=\"dataframe\">\n",
       "  <thead>\n",
       "    <tr style=\"text-align: right;\">\n",
       "      <th></th>\n",
       "      <th>0Alcohol</th>\n",
       "      <th>1Malic acid</th>\n",
       "      <th>2Ash</th>\n",
       "      <th>3Alcalinity of ash</th>\n",
       "      <th>4Magnesium</th>\n",
       "      <th>5Total phenols</th>\n",
       "      <th>6Flavanoid</th>\n",
       "      <th>7Nonflavanoid phenols</th>\n",
       "      <th>8Proanthocyanins</th>\n",
       "      <th>9Color intensity</th>\n",
       "      <th>10Hue</th>\n",
       "      <th>11OD280/OD315 of diluted wines</th>\n",
       "      <th>12Proline</th>\n",
       "      <th>13category</th>\n",
       "    </tr>\n",
       "  </thead>\n",
       "  <tbody>\n",
       "    <tr>\n",
       "      <th>0</th>\n",
       "      <td>14.23</td>\n",
       "      <td>1.71</td>\n",
       "      <td>2.43</td>\n",
       "      <td>15.6</td>\n",
       "      <td>127</td>\n",
       "      <td>2.80</td>\n",
       "      <td>3.06</td>\n",
       "      <td>0.28</td>\n",
       "      <td>2.29</td>\n",
       "      <td>5.64</td>\n",
       "      <td>1.04</td>\n",
       "      <td>3.92</td>\n",
       "      <td>1065</td>\n",
       "      <td>1</td>\n",
       "    </tr>\n",
       "    <tr>\n",
       "      <th>1</th>\n",
       "      <td>13.20</td>\n",
       "      <td>1.78</td>\n",
       "      <td>2.14</td>\n",
       "      <td>11.2</td>\n",
       "      <td>100</td>\n",
       "      <td>2.65</td>\n",
       "      <td>2.76</td>\n",
       "      <td>0.26</td>\n",
       "      <td>1.28</td>\n",
       "      <td>4.38</td>\n",
       "      <td>1.05</td>\n",
       "      <td>3.40</td>\n",
       "      <td>1050</td>\n",
       "      <td>1</td>\n",
       "    </tr>\n",
       "    <tr>\n",
       "      <th>2</th>\n",
       "      <td>13.16</td>\n",
       "      <td>2.36</td>\n",
       "      <td>2.67</td>\n",
       "      <td>18.6</td>\n",
       "      <td>101</td>\n",
       "      <td>2.80</td>\n",
       "      <td>3.24</td>\n",
       "      <td>0.30</td>\n",
       "      <td>2.81</td>\n",
       "      <td>5.68</td>\n",
       "      <td>1.03</td>\n",
       "      <td>3.17</td>\n",
       "      <td>1185</td>\n",
       "      <td>1</td>\n",
       "    </tr>\n",
       "    <tr>\n",
       "      <th>3</th>\n",
       "      <td>14.37</td>\n",
       "      <td>1.95</td>\n",
       "      <td>2.50</td>\n",
       "      <td>16.8</td>\n",
       "      <td>113</td>\n",
       "      <td>3.85</td>\n",
       "      <td>3.49</td>\n",
       "      <td>0.24</td>\n",
       "      <td>2.18</td>\n",
       "      <td>7.80</td>\n",
       "      <td>0.86</td>\n",
       "      <td>3.45</td>\n",
       "      <td>1480</td>\n",
       "      <td>1</td>\n",
       "    </tr>\n",
       "    <tr>\n",
       "      <th>4</th>\n",
       "      <td>13.24</td>\n",
       "      <td>2.59</td>\n",
       "      <td>2.87</td>\n",
       "      <td>21.0</td>\n",
       "      <td>118</td>\n",
       "      <td>2.80</td>\n",
       "      <td>2.69</td>\n",
       "      <td>0.39</td>\n",
       "      <td>1.82</td>\n",
       "      <td>4.32</td>\n",
       "      <td>1.04</td>\n",
       "      <td>2.93</td>\n",
       "      <td>735</td>\n",
       "      <td>1</td>\n",
       "    </tr>\n",
       "  </tbody>\n",
       "</table>\n",
       "</div>"
      ],
      "text/plain": [
       "   0Alcohol  1Malic acid   2Ash  3Alcalinity of ash  4Magnesium  \\\n",
       "0     14.23          1.71  2.43                15.6         127   \n",
       "1     13.20          1.78  2.14                11.2         100   \n",
       "2     13.16          2.36  2.67                18.6         101   \n",
       "3     14.37          1.95  2.50                16.8         113   \n",
       "4     13.24          2.59  2.87                21.0         118   \n",
       "\n",
       "   5Total phenols  6Flavanoid  7Nonflavanoid phenols  8Proanthocyanins   \\\n",
       "0            2.80        3.06                   0.28               2.29   \n",
       "1            2.65        2.76                   0.26               1.28   \n",
       "2            2.80        3.24                   0.30               2.81   \n",
       "3            3.85        3.49                   0.24               2.18   \n",
       "4            2.80        2.69                   0.39               1.82   \n",
       "\n",
       "   9Color intensity   10Hue   11OD280/OD315 of diluted wines  12Proline   \\\n",
       "0               5.64    1.04                            3.92        1065   \n",
       "1               4.38    1.05                            3.40        1050   \n",
       "2               5.68    1.03                            3.17        1185   \n",
       "3               7.80    0.86                            3.45        1480   \n",
       "4               4.32    1.04                            2.93         735   \n",
       "\n",
       "   13category  \n",
       "0           1  \n",
       "1           1  \n",
       "2           1  \n",
       "3           1  \n",
       "4           1  "
      ]
     },
     "execution_count": 5,
     "metadata": {},
     "output_type": "execute_result"
    }
   ],
   "source": [
    "data.head(5)"
   ]
  },
  {
   "cell_type": "code",
   "execution_count": 6,
   "metadata": {
    "collapsed": true
   },
   "outputs": [
    {
     "name": "stdout",
     "output_type": "stream",
     "text": [
      "<class 'pandas.core.frame.DataFrame'>\n",
      "RangeIndex: 178 entries, 0 to 177\n",
      "Data columns (total 14 columns):\n",
      "0Alcohol                          178 non-null float64\n",
      "1Malic acid                       178 non-null float64\n",
      "2Ash                              178 non-null float64\n",
      "3Alcalinity of ash                178 non-null float64\n",
      "4Magnesium                        178 non-null int64\n",
      "5Total phenols                    178 non-null float64\n",
      "6Flavanoid                        178 non-null float64\n",
      "7Nonflavanoid phenols             178 non-null float64\n",
      "8Proanthocyanins                  178 non-null float64\n",
      "9Color intensity                  178 non-null float64\n",
      "10Hue                             178 non-null float64\n",
      "11OD280/OD315 of diluted wines    178 non-null float64\n",
      "12Proline                         178 non-null int64\n",
      "13category                        178 non-null int64\n",
      "dtypes: float64(11), int64(3)\n",
      "memory usage: 19.5 KB\n"
     ]
    }
   ],
   "source": [
    "data.info() #查看数据概述\n",
    "\n",
    "# 特征列类型：: float64(11), int64(2)\n",
    "# 标签列：int64"
   ]
  },
  {
   "cell_type": "code",
   "execution_count": 11,
   "metadata": {
    "collapsed": true
   },
   "outputs": [
    {
     "data": {
      "text/plain": [
       "0Alcohol                          float64\n",
       "1Malic acid                       float64\n",
       "2Ash                              float64\n",
       "3Alcalinity of ash                float64\n",
       "4Magnesium                          int64\n",
       "5Total phenols                    float64\n",
       "6Flavanoid                        float64\n",
       "7Nonflavanoid phenols             float64\n",
       "8Proanthocyanins                  float64\n",
       "9Color intensity                  float64\n",
       "10Hue                             float64\n",
       "11OD280/OD315 of diluted wines    float64\n",
       "12Proline                           int64\n",
       "13category                          int64\n",
       "dtype: object"
      ]
     },
     "execution_count": 11,
     "metadata": {},
     "output_type": "execute_result"
    }
   ],
   "source": [
    "data.dtypes #查看数据类型"
   ]
  },
  {
   "cell_type": "code",
   "execution_count": 8,
   "metadata": {
    "collapsed": false
   },
   "outputs": [
    {
     "data": {
      "text/html": [
       "<div>\n",
       "<style>\n",
       "    .dataframe thead tr:only-child th {\n",
       "        text-align: right;\n",
       "    }\n",
       "\n",
       "    .dataframe thead th {\n",
       "        text-align: left;\n",
       "    }\n",
       "\n",
       "    .dataframe tbody tr th {\n",
       "        vertical-align: top;\n",
       "    }\n",
       "</style>\n",
       "<table border=\"1\" class=\"dataframe\">\n",
       "  <thead>\n",
       "    <tr style=\"text-align: right;\">\n",
       "      <th></th>\n",
       "      <th>0Alcohol</th>\n",
       "      <th>1Malic acid</th>\n",
       "      <th>2Ash</th>\n",
       "      <th>3Alcalinity of ash</th>\n",
       "      <th>4Magnesium</th>\n",
       "      <th>5Total phenols</th>\n",
       "      <th>6Flavanoid</th>\n",
       "      <th>7Nonflavanoid phenols</th>\n",
       "      <th>8Proanthocyanins</th>\n",
       "      <th>9Color intensity</th>\n",
       "      <th>10Hue</th>\n",
       "      <th>11OD280/OD315 of diluted wines</th>\n",
       "      <th>12Proline</th>\n",
       "      <th>13category</th>\n",
       "    </tr>\n",
       "  </thead>\n",
       "  <tbody>\n",
       "    <tr>\n",
       "      <th>count</th>\n",
       "      <td>178.000000</td>\n",
       "      <td>178.000000</td>\n",
       "      <td>178.000000</td>\n",
       "      <td>178.000000</td>\n",
       "      <td>178.000000</td>\n",
       "      <td>178.000000</td>\n",
       "      <td>178.000000</td>\n",
       "      <td>178.000000</td>\n",
       "      <td>178.000000</td>\n",
       "      <td>178.000000</td>\n",
       "      <td>178.000000</td>\n",
       "      <td>178.000000</td>\n",
       "      <td>178.000000</td>\n",
       "      <td>178.000000</td>\n",
       "    </tr>\n",
       "    <tr>\n",
       "      <th>mean</th>\n",
       "      <td>13.000618</td>\n",
       "      <td>2.336348</td>\n",
       "      <td>2.366517</td>\n",
       "      <td>19.494944</td>\n",
       "      <td>99.741573</td>\n",
       "      <td>2.295112</td>\n",
       "      <td>2.029270</td>\n",
       "      <td>0.361854</td>\n",
       "      <td>1.590899</td>\n",
       "      <td>5.058090</td>\n",
       "      <td>0.957449</td>\n",
       "      <td>2.611685</td>\n",
       "      <td>746.893258</td>\n",
       "      <td>1.938202</td>\n",
       "    </tr>\n",
       "    <tr>\n",
       "      <th>std</th>\n",
       "      <td>0.811827</td>\n",
       "      <td>1.117146</td>\n",
       "      <td>0.274344</td>\n",
       "      <td>3.339564</td>\n",
       "      <td>14.282484</td>\n",
       "      <td>0.625851</td>\n",
       "      <td>0.998859</td>\n",
       "      <td>0.124453</td>\n",
       "      <td>0.572359</td>\n",
       "      <td>2.318286</td>\n",
       "      <td>0.228572</td>\n",
       "      <td>0.709990</td>\n",
       "      <td>314.907474</td>\n",
       "      <td>0.775035</td>\n",
       "    </tr>\n",
       "    <tr>\n",
       "      <th>min</th>\n",
       "      <td>11.030000</td>\n",
       "      <td>0.740000</td>\n",
       "      <td>1.360000</td>\n",
       "      <td>10.600000</td>\n",
       "      <td>70.000000</td>\n",
       "      <td>0.980000</td>\n",
       "      <td>0.340000</td>\n",
       "      <td>0.130000</td>\n",
       "      <td>0.410000</td>\n",
       "      <td>1.280000</td>\n",
       "      <td>0.480000</td>\n",
       "      <td>1.270000</td>\n",
       "      <td>278.000000</td>\n",
       "      <td>1.000000</td>\n",
       "    </tr>\n",
       "    <tr>\n",
       "      <th>25%</th>\n",
       "      <td>12.362500</td>\n",
       "      <td>1.602500</td>\n",
       "      <td>2.210000</td>\n",
       "      <td>17.200000</td>\n",
       "      <td>88.000000</td>\n",
       "      <td>1.742500</td>\n",
       "      <td>1.205000</td>\n",
       "      <td>0.270000</td>\n",
       "      <td>1.250000</td>\n",
       "      <td>3.220000</td>\n",
       "      <td>0.782500</td>\n",
       "      <td>1.937500</td>\n",
       "      <td>500.500000</td>\n",
       "      <td>1.000000</td>\n",
       "    </tr>\n",
       "    <tr>\n",
       "      <th>50%</th>\n",
       "      <td>13.050000</td>\n",
       "      <td>1.865000</td>\n",
       "      <td>2.360000</td>\n",
       "      <td>19.500000</td>\n",
       "      <td>98.000000</td>\n",
       "      <td>2.355000</td>\n",
       "      <td>2.135000</td>\n",
       "      <td>0.340000</td>\n",
       "      <td>1.555000</td>\n",
       "      <td>4.690000</td>\n",
       "      <td>0.965000</td>\n",
       "      <td>2.780000</td>\n",
       "      <td>673.500000</td>\n",
       "      <td>2.000000</td>\n",
       "    </tr>\n",
       "    <tr>\n",
       "      <th>75%</th>\n",
       "      <td>13.677500</td>\n",
       "      <td>3.082500</td>\n",
       "      <td>2.557500</td>\n",
       "      <td>21.500000</td>\n",
       "      <td>107.000000</td>\n",
       "      <td>2.800000</td>\n",
       "      <td>2.875000</td>\n",
       "      <td>0.437500</td>\n",
       "      <td>1.950000</td>\n",
       "      <td>6.200000</td>\n",
       "      <td>1.120000</td>\n",
       "      <td>3.170000</td>\n",
       "      <td>985.000000</td>\n",
       "      <td>3.000000</td>\n",
       "    </tr>\n",
       "    <tr>\n",
       "      <th>max</th>\n",
       "      <td>14.830000</td>\n",
       "      <td>5.800000</td>\n",
       "      <td>3.230000</td>\n",
       "      <td>30.000000</td>\n",
       "      <td>162.000000</td>\n",
       "      <td>3.880000</td>\n",
       "      <td>5.080000</td>\n",
       "      <td>0.660000</td>\n",
       "      <td>3.580000</td>\n",
       "      <td>13.000000</td>\n",
       "      <td>1.710000</td>\n",
       "      <td>4.000000</td>\n",
       "      <td>1680.000000</td>\n",
       "      <td>3.000000</td>\n",
       "    </tr>\n",
       "  </tbody>\n",
       "</table>\n",
       "</div>"
      ],
      "text/plain": [
       "         0Alcohol  1Malic acid         2Ash  3Alcalinity of ash  4Magnesium  \\\n",
       "count  178.000000    178.000000  178.000000          178.000000  178.000000   \n",
       "mean    13.000618      2.336348    2.366517           19.494944   99.741573   \n",
       "std      0.811827      1.117146    0.274344            3.339564   14.282484   \n",
       "min     11.030000      0.740000    1.360000           10.600000   70.000000   \n",
       "25%     12.362500      1.602500    2.210000           17.200000   88.000000   \n",
       "50%     13.050000      1.865000    2.360000           19.500000   98.000000   \n",
       "75%     13.677500      3.082500    2.557500           21.500000  107.000000   \n",
       "max     14.830000      5.800000    3.230000           30.000000  162.000000   \n",
       "\n",
       "       5Total phenols  6Flavanoid  7Nonflavanoid phenols  8Proanthocyanins   \\\n",
       "count      178.000000  178.000000             178.000000         178.000000   \n",
       "mean         2.295112    2.029270               0.361854           1.590899   \n",
       "std          0.625851    0.998859               0.124453           0.572359   \n",
       "min          0.980000    0.340000               0.130000           0.410000   \n",
       "25%          1.742500    1.205000               0.270000           1.250000   \n",
       "50%          2.355000    2.135000               0.340000           1.555000   \n",
       "75%          2.800000    2.875000               0.437500           1.950000   \n",
       "max          3.880000    5.080000               0.660000           3.580000   \n",
       "\n",
       "       9Color intensity       10Hue   11OD280/OD315 of diluted wines  \\\n",
       "count         178.000000  178.000000                      178.000000   \n",
       "mean            5.058090    0.957449                        2.611685   \n",
       "std             2.318286    0.228572                        0.709990   \n",
       "min             1.280000    0.480000                        1.270000   \n",
       "25%             3.220000    0.782500                        1.937500   \n",
       "50%             4.690000    0.965000                        2.780000   \n",
       "75%             6.200000    1.120000                        3.170000   \n",
       "max            13.000000    1.710000                        4.000000   \n",
       "\n",
       "        12Proline   13category  \n",
       "count   178.000000  178.000000  \n",
       "mean    746.893258    1.938202  \n",
       "std     314.907474    0.775035  \n",
       "min     278.000000    1.000000  \n",
       "25%     500.500000    1.000000  \n",
       "50%     673.500000    2.000000  \n",
       "75%     985.000000    3.000000  \n",
       "max    1680.000000    3.000000  "
      ]
     },
     "execution_count": 8,
     "metadata": {},
     "output_type": "execute_result"
    }
   ],
   "source": [
    "data.describe() #查看数据概述\n",
    "\n",
    "# 可以得到：\n",
    "# 1、各特征没有缺失值\n",
    "# 2、数值型特征的量纲不同\n",
    "# 3、方差变化也很大"
   ]
  },
  {
   "cell_type": "code",
   "execution_count": 9,
   "metadata": {
    "collapsed": true
   },
   "outputs": [
    {
     "data": {
      "text/plain": [
       "2    71\n",
       "1    59\n",
       "3    48\n",
       "Name: 13category, dtype: int64"
      ]
     },
     "execution_count": 9,
     "metadata": {},
     "output_type": "execute_result"
    }
   ],
   "source": [
    "data['13category'].value_counts() #查看这一列的值统计\n",
    "\n",
    "# 3个类别，分别为59、71、48，样本较为均衡"
   ]
  },
  {
   "cell_type": "code",
   "execution_count": 13,
   "metadata": {
    "collapsed": false
   },
   "outputs": [
    {
     "data": {
      "text/plain": [
       "array([1, 2, 3], dtype=int64)"
      ]
     },
     "execution_count": 13,
     "metadata": {},
     "output_type": "execute_result"
    }
   ],
   "source": [
    "data['13category'].unique() #查看数据取值有哪些"
   ]
  },
  {
   "cell_type": "code",
   "execution_count": null,
   "metadata": {
    "collapsed": true
   },
   "outputs": [],
   "source": [
    "data.corr() #相关系数矩阵，即给出了任意两款菜式之间的相关系数\n",
    "# 不过数据量很大时会很慢，所以特征维度高时就别用了"
   ]
  },
  {
   "cell_type": "code",
   "execution_count": 14,
   "metadata": {
    "collapsed": true
   },
   "outputs": [
    {
     "data": {
      "text/plain": [
       "0Alcohol                          0\n",
       "1Malic acid                       0\n",
       "2Ash                              0\n",
       "3Alcalinity of ash                0\n",
       "4Magnesium                        0\n",
       "5Total phenols                    0\n",
       "6Flavanoid                        0\n",
       "7Nonflavanoid phenols             0\n",
       "8Proanthocyanins                  0\n",
       "9Color intensity                  0\n",
       "10Hue                             0\n",
       "11OD280/OD315 of diluted wines    0\n",
       "12Proline                         0\n",
       "13category                        0\n",
       "dtype: int64"
      ]
     },
     "execution_count": 14,
     "metadata": {},
     "output_type": "execute_result"
    }
   ],
   "source": [
    "data.isnull().sum()  #查看每一列缺失值情况"
   ]
  },
  {
   "cell_type": "code",
   "execution_count": 15,
   "metadata": {
    "collapsed": true
   },
   "outputs": [
    {
     "data": {
      "text/plain": [
       "0      0\n",
       "1      0\n",
       "2      0\n",
       "3      0\n",
       "4      0\n",
       "5      0\n",
       "6      0\n",
       "7      0\n",
       "8      0\n",
       "9      0\n",
       "10     0\n",
       "11     0\n",
       "12     0\n",
       "13     0\n",
       "14     0\n",
       "15     0\n",
       "16     0\n",
       "17     0\n",
       "18     0\n",
       "19     0\n",
       "20     0\n",
       "21     0\n",
       "22     0\n",
       "23     0\n",
       "24     0\n",
       "25     0\n",
       "26     0\n",
       "27     0\n",
       "28     0\n",
       "29     0\n",
       "      ..\n",
       "148    0\n",
       "149    0\n",
       "150    0\n",
       "151    0\n",
       "152    0\n",
       "153    0\n",
       "154    0\n",
       "155    0\n",
       "156    0\n",
       "157    0\n",
       "158    0\n",
       "159    0\n",
       "160    0\n",
       "161    0\n",
       "162    0\n",
       "163    0\n",
       "164    0\n",
       "165    0\n",
       "166    0\n",
       "167    0\n",
       "168    0\n",
       "169    0\n",
       "170    0\n",
       "171    0\n",
       "172    0\n",
       "173    0\n",
       "174    0\n",
       "175    0\n",
       "176    0\n",
       "177    0\n",
       "Length: 178, dtype: int64"
      ]
     },
     "execution_count": 15,
     "metadata": {},
     "output_type": "execute_result"
    }
   ],
   "source": [
    "data.isnull().sum(axis=1) #查看每一行缺失值情况"
   ]
  },
  {
   "cell_type": "markdown",
   "metadata": {},
   "source": [
    "## 2、数据预处理"
   ]
  },
  {
   "cell_type": "markdown",
   "metadata": {},
   "source": [
    "1） 数据类型分类处理转换  \n",
    "2） 缺失值处理  \n",
    "3） 异常值处理  \n",
    "4） 无量纲化（规范化）  "
   ]
  },
  {
   "cell_type": "markdown",
   "metadata": {},
   "source": [
    "### 缺失值统计与处理："
   ]
  },
  {
   "cell_type": "code",
   "execution_count": 12,
   "metadata": {
    "collapsed": true
   },
   "outputs": [
    {
     "data": {
      "text/plain": [
       "0Alcohol                          0\n",
       "1Malic acid                       0\n",
       "2Ash                              0\n",
       "3Alcalinity of ash                0\n",
       "4Magnesium                        0\n",
       "5Total phenols                    0\n",
       "6Flavanoid                        0\n",
       "7Nonflavanoid phenols             0\n",
       "8Proanthocyanins                  0\n",
       "9Color intensity                  0\n",
       "10Hue                             0\n",
       "11OD280/OD315 of diluted wines    0\n",
       "12Proline                         0\n",
       "13category                        0\n",
       "dtype: int64"
      ]
     },
     "execution_count": 12,
     "metadata": {},
     "output_type": "execute_result"
    }
   ],
   "source": [
    "# 缺失数查看\n",
    "data.isnull().sum()  #查看每一列缺失值情况\n",
    "data.isnull().sum().sort_values(ascending=False)\n",
    "# 缺失值填充\n",
    "data = data.fillna(data.median()) \n",
    "# 根据每列进行填充\n",
    "for col in data.columns:\n",
    "    data[col] = data[col].fillna(data[col].median())\n",
    "\n",
    "# 统计缺失率超过90%的特征\n",
    "train = data\n",
    "isnull_cols = []\n",
    "feature_selected=[]\n",
    "for col in train.columns:\n",
    "    if train[col].isnull().sum()/train[col].count() >= 0.9:\n",
    "        isnull_cols.append(col)\n",
    "    else:\n",
    "        feature_selected.append(col)\n",
    "print('There exists ', len(isnull_cols), ' columns with much null value.')\n",
    "# 去除缺失率高的列\n",
    "data = data[feature_selected]\n",
    "\n",
    "\n",
    "# 统计缺失值超过90%的特征列,封装成函数\n",
    "def null_ratio(df):\n",
    "    features=df.columns\n",
    "    feature_selected=[]\n",
    "    drop_index=[]\n",
    "    sz=df.size\n",
    "    for feat in features:\n",
    "        sz_null=df[df[feat].isnull()].size\n",
    "        ratio=float(sz_null)/sz\n",
    "        if ratio > 0.9:\n",
    "            drop_index.append(feat) \n",
    "        else:\n",
    "            feature_selected.append((feat,ratio))\n",
    "    return feature_selected,drop_index"
   ]
  },
  {
   "cell_type": "markdown",
   "metadata": {},
   "source": [
    "### 根据数据类型分别处理："
   ]
  },
  {
   "cell_type": "code",
   "execution_count": null,
   "metadata": {
    "collapsed": true
   },
   "outputs": [],
   "source": []
  },
  {
   "cell_type": "markdown",
   "metadata": {},
   "source": [
    "### 规范化处理："
   ]
  },
  {
   "cell_type": "code",
   "execution_count": null,
   "metadata": {
    "collapsed": true
   },
   "outputs": [],
   "source": []
  },
  {
   "cell_type": "markdown",
   "metadata": {},
   "source": [
    "## 3、划分数据集 + 模型\n",
    "\n",
    "若数据样本较好，可以先不做特征工程，直接带模型看看效果  \n",
    "若预处理后数据样本维度较大或相关性较强，就先做特征工程，再带模型"
   ]
  },
  {
   "cell_type": "markdown",
   "metadata": {},
   "source": [
    "1）训练集和测试集划分  \n",
    "2）LR模型  \n",
    "3）SVM模型  \n",
    "4）最近邻分类模型  \n",
    "5）决策树  \n",
    "6）随机森林  \n",
    "7）XGBoost  \n",
    "8）LightBGM  "
   ]
  },
  {
   "cell_type": "code",
   "execution_count": null,
   "metadata": {
    "collapsed": true
   },
   "outputs": [],
   "source": []
  },
  {
   "cell_type": "markdown",
   "metadata": {},
   "source": [
    "## 4、特征工程（特征选择+降维）"
   ]
  },
  {
   "cell_type": "code",
   "execution_count": null,
   "metadata": {
    "collapsed": true
   },
   "outputs": [],
   "source": []
  },
  {
   "cell_type": "markdown",
   "metadata": {},
   "source": [
    "## 5、模型调参"
   ]
  },
  {
   "cell_type": "code",
   "execution_count": null,
   "metadata": {
    "collapsed": true
   },
   "outputs": [],
   "source": []
  },
  {
   "cell_type": "markdown",
   "metadata": {},
   "source": [
    "## 6、模型融合"
   ]
  },
  {
   "cell_type": "code",
   "execution_count": null,
   "metadata": {
    "collapsed": true
   },
   "outputs": [],
   "source": []
  }
 ],
 "metadata": {
  "kernelspec": {
   "display_name": "Python 3",
   "language": "python",
   "name": "python3"
  },
  "language_info": {
   "codemirror_mode": {
    "name": "ipython",
    "version": 3
   },
   "file_extension": ".py",
   "mimetype": "text/x-python",
   "name": "python",
   "nbconvert_exporter": "python",
   "pygments_lexer": "ipython3",
   "version": "3.6.0"
  }
 },
 "nbformat": 4,
 "nbformat_minor": 2
}
